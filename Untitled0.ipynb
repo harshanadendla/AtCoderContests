{
  "nbformat": 4,
  "nbformat_minor": 0,
  "metadata": {
    "colab": {
      "name": "Untitled0.ipynb",
      "provenance": [],
      "collapsed_sections": [],
      "include_colab_link": true
    },
    "kernelspec": {
      "name": "python3",
      "display_name": "Python 3"
    }
  },
  "cells": [
    {
      "cell_type": "markdown",
      "metadata": {
        "id": "view-in-github",
        "colab_type": "text"
      },
      "source": [
        "<a href=\"https://colab.research.google.com/github/o0badboy0o/AtCoderContests/blob/master/Untitled0.ipynb\" target=\"_parent\"><img src=\"https://colab.research.google.com/assets/colab-badge.svg\" alt=\"Open In Colab\"/></a>"
      ]
    },
    {
      "cell_type": "code",
      "metadata": {
        "id": "XKVOA8wL5yuK"
      },
      "source": [
        "pip install textblob"
      ],
      "execution_count": null,
      "outputs": []
    },
    {
      "cell_type": "code",
      "metadata": {
        "id": "qfmy-uB2FcSv"
      },
      "source": [
        "from google.colab import drive\r\n",
        "drive.mount('/gdrive')\r\n",
        "%cd /gdrive"
      ],
      "execution_count": null,
      "outputs": []
    },
    {
      "cell_type": "code",
      "metadata": {
        "id": "7YF-Pt4a6WlL"
      },
      "source": [
        "import time\r\n",
        "\r\n",
        "def main():\r\n",
        "  begin=time.time()\r\n",
        "  file1='/gdrive/MyDrive/Sherlock.txt'\r\n",
        "  file=open(file1,\"r\",encoding=\"utf8\")\r\n",
        "  lines=file.readlines()\r\n",
        "  d=dict()\r\n",
        "  for line in lines:\r\n",
        "    words=line.split(\" \")\r\n",
        "    for word in words:\r\n",
        "      if word in d:\r\n",
        "        d[word]=d[word]+1\r\n",
        "      else:\r\n",
        "        d[word]=1\r\n",
        "  end=time.time()\r\n",
        "  print(\"Toal number of distinct elements in the file : {}\".format(len(d)))\r\n",
        "  print(\"Tolatl time taken to run : {}\".format(end-begin))\r\n",
        "\r\n",
        "if __name__ == \"__main__\":\r\n",
        "  main()"
      ],
      "execution_count": null,
      "outputs": []
    },
    {
      "cell_type": "code",
      "metadata": {
        "id": "lKUVeVH8hXMc"
      },
      "source": [
        "import time\r\n",
        "\r\n",
        "def main():\r\n",
        "  begin=time.time()\r\n",
        "  file1='/gdrive/MyDrive/tweets_data_set.txt'\r\n",
        "  file=open(file1,\"r\",encoding=\"utf8\")\r\n",
        "  lines=file.readlines()\r\n",
        "  d=dict()\r\n",
        "  for line in lines:\r\n",
        "    words=line.split(\" \")\r\n",
        "    for word in words:\r\n",
        "      if word in d:\r\n",
        "        d[word]=d[word]+1\r\n",
        "      else:\r\n",
        "        d[word]=1\r\n",
        "  print(\"Toal number of distinct elements in the file : {}\".format(len(d)))\r\n",
        "  end=time.time()\r\n",
        "  print(\"Tolatl time taken to run : {}\".format(end-begin))\r\n",
        "\r\n",
        "if __name__ == \"__main__\":\r\n",
        "  main()"
      ],
      "execution_count": null,
      "outputs": []
    },
    {
      "cell_type": "code",
      "metadata": {
        "id": "Fvdf3GiensoF"
      },
      "source": [
        "import time\r\n",
        "\r\n",
        "file1=open(\"/gdrive/MyDrive/tweets_data_set.txt\",'r',encoding=\"utf8\")\r\n",
        "lines=file1.readlines()\r\n",
        "d=dict()\r\n",
        "for line in lines:\r\n",
        "    words=line.split(\" \")\r\n",
        "    for word in words:\r\n",
        "        if word in d:\r\n",
        "            d[word]=d[word]+1\r\n",
        "        else:\r\n",
        "            d[word]=1\r\n",
        "mod=len(d)+1\r\n",
        "r=0\r\n",
        "const=2**17\r\n",
        "begin=time.time()\r\n",
        "for key in list(d.keys()):\r\n",
        "    x=(d[key]*(6*mod)+const)%mod\r\n",
        "    r=max(x,r)\r\n",
        "for i in range(32):\r\n",
        "    if ((1<<i)&r)!=0 :\r\n",
        "        s=i\r\n",
        "        break\r\n",
        "end=time.time()\r\n",
        "print(\"Total number of distinct elements present : {}\".format(2**s))\r\n",
        "print(\"Totoal time taken to run : {}\".format(end-begin))\r\n"
      ],
      "execution_count": null,
      "outputs": []
    },
    {
      "cell_type": "code",
      "metadata": {
        "id": "-vxYiSw4nswH"
      },
      "source": [
        "import time\r\n",
        "\r\n",
        "file1=open(\"/gdrive/MyDrive/Sherlock.txt\",'r',encoding=\"utf8\")\r\n",
        "lines=file1.readlines()\r\n",
        "d=dict()\r\n",
        "for line in lines:\r\n",
        "    words=line.split(\" \")\r\n",
        "    for word in words:\r\n",
        "        if word in d:\r\n",
        "            d[word]=d[word]+1\r\n",
        "        else:\r\n",
        "            d[word]=1\r\n",
        "mod=len(d)*10+1\r\n",
        "r=0\r\n",
        "const=2**17\r\n",
        "begin=time.time()\r\n",
        "for key in list(d.keys()):\r\n",
        "    x=(d[key]*(6*mod)+const)%mod\r\n",
        "    r=max(x,r)\r\n",
        "for i in range(32):\r\n",
        "    if ((1<<i)&r)!=0 :\r\n",
        "        s=i\r\n",
        "        break\r\n",
        "end=time.time()\r\n",
        "print(\"Total number of distinct elements present : {}\".format(2**s))\r\n",
        "print(\"Totoal time taken to run : {}\".format(end-begin))\r\n"
      ],
      "execution_count": null,
      "outputs": []
    }
  ]
}